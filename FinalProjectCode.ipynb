{
  "nbformat": 4,
  "nbformat_minor": 0,
  "metadata": {
    "colab": {
      "name": "FinalProjectCode.ipynb",
      "provenance": [],
      "collapsed_sections": [],
      "include_colab_link": true
    },
    "kernelspec": {
      "name": "python3",
      "display_name": "Python 3"
    }
  },
  "cells": [
    {
      "cell_type": "markdown",
      "metadata": {
        "id": "view-in-github",
        "colab_type": "text"
      },
      "source": [
        "<a href=\"https://colab.research.google.com/github/NagaPawan-Keerthan/Feature_Based_Medical_Image_Retrieval/blob/main/FinalProjectCode.ipynb\" target=\"_parent\"><img src=\"https://colab.research.google.com/assets/colab-badge.svg\" alt=\"Open In Colab\"/></a>"
      ]
    },
    {
      "cell_type": "code",
      "metadata": {
        "id": "10nm0wQy42ya",
        "colab": {
          "base_uri": "https://localhost:8080/",
          "height": 121
        },
        "outputId": "0c97d1c7-0ee5-427d-8e08-250fe3604851"
      },
      "source": [
        "from google.colab import drive\n",
        "drive.mount('/content/drive')"
      ],
      "execution_count": null,
      "outputs": [
        {
          "output_type": "stream",
          "text": [
            "Go to this URL in a browser: https://accounts.google.com/o/oauth2/auth?client_id=947318989803-6bn6qk8qdgf4n4g3pfee6491hc0brc4i.apps.googleusercontent.com&redirect_uri=urn%3aietf%3awg%3aoauth%3a2.0%3aoob&response_type=code&scope=email%20https%3a%2f%2fwww.googleapis.com%2fauth%2fdocs.test%20https%3a%2f%2fwww.googleapis.com%2fauth%2fdrive%20https%3a%2f%2fwww.googleapis.com%2fauth%2fdrive.photos.readonly%20https%3a%2f%2fwww.googleapis.com%2fauth%2fpeopleapi.readonly\n",
            "\n",
            "Enter your authorization code:\n",
            "··········\n",
            "Mounted at /content/drive\n"
          ],
          "name": "stdout"
        }
      ]
    },
    {
      "cell_type": "code",
      "metadata": {
        "id": "S5jyk7zP3qlE",
        "colab": {
          "base_uri": "https://localhost:8080/",
          "height": 50
        },
        "outputId": "14216bd3-9601-490e-955c-4a2dc0eb438d"
      },
      "source": [
        "import numpy as np\n",
        "import os\n",
        "import sys\n",
        "from tensorflow.keras.applications.vgg19 import VGG19\n",
        "from tensorflow.keras.preprocessing import image\n",
        "from tensorflow.keras.applications.vgg19 import preprocess_input\n",
        "from tensorflow.keras.models import Model\n",
        "base_model = VGG19(weights='imagenet',include_top=True)\n",
        "model = Model(inputs=base_model.input, outputs=base_model.get_layer('fc1').output)\n",
        "sys.stdout = open(\"/content/imagesContent1.txt\", \"w\")\n",
        "\n",
        "f=open('allFeatFC1.txt','a+')\n",
        "\n",
        "dirName='/content/drive/My Drive/Data/Imagedb'\n",
        "\n",
        "def getListOfFiles(dirName):\n",
        "    listOfFile = os.listdir(dirName)\n",
        "    allFiles = list()\n",
        "    for entry in listOfFile:\n",
        "        fullPath = os.path.join(dirName, entry)\n",
        "        if os.path.isdir(fullPath):\n",
        "            allFiles = allFiles + getListOfFiles(fullPath)\n",
        "        else:\n",
        "            allFiles.append(fullPath)\n",
        "    return allFiles\n",
        "\n",
        "def main():\n",
        "    listOfFiles = getListOfFiles(dirName)\n",
        "    for elem in listOfFiles:\n",
        "        print(elem)\n",
        "    listOfFiles = list()\n",
        "    for (dirpath, dirnames, filenames) in os.walk(dirName):\n",
        "        listOfFiles += [os.path.join(dirpath, file) for file in filenames]\n",
        "\n",
        "main()\n",
        "listOfFiles = getListOfFiles(dirName)\n",
        "for elem in listOfFiles:\n",
        "    img_path=elem\n",
        "    img = image.load_img(img_path, target_size=(224, 224))\n",
        "    x = image.img_to_array(img)\n",
        "    x = np.expand_dims(x, axis=0)\n",
        "    x = preprocess_input(x)\n",
        "    block4_pool_features = model.predict(x)\n",
        "    np.savetxt(f,block4_pool_features)\n",
        "    f.write(\"\\n\")\n",
        "    "
      ],
      "execution_count": null,
      "outputs": [
        {
          "output_type": "stream",
          "text": [
            "Downloading data from https://storage.googleapis.com/tensorflow/keras-applications/vgg19/vgg19_weights_tf_dim_ordering_tf_kernels.h5\n",
            "574717952/574710816 [==============================] - 8s 0us/step\n"
          ],
          "name": "stdout"
        }
      ]
    },
    {
      "cell_type": "code",
      "metadata": {
        "id": "XZ6ImXV53tAR"
      },
      "source": [
        "import pandas as pd\n",
        "df=pd.read_csv('/content/allFeatFC1.txt', sep=\" \",header=None,names=['a{}'.format(i) for i in range(1, 4097)])\n",
        "df.to_csv('/content/allFeatFC11.csv',index=False)"
      ],
      "execution_count": null,
      "outputs": []
    },
    {
      "cell_type": "code",
      "metadata": {
        "id": "mTk0fZMb3vUO"
      },
      "source": [
        "from csv import writer\n",
        "from csv import reader\n",
        "\n",
        "def add_column_in_csv(input_file, output_file, transform_row):\n",
        "    with open(input_file, 'r') as read_obj, \\\n",
        "            open(output_file, 'w', newline='') as write_obj:\n",
        "        csv_reader = reader(read_obj)\n",
        "        csv_writer = writer(write_obj)\n",
        "        for row in csv_reader:\n",
        "            transform_row(row, csv_reader.line_num)\n",
        "            csv_writer.writerow(row)\n",
        "\n",
        "with open('/content/imagesContent1.txt', 'r') as f:\n",
        "    x = f.readlines()\n",
        "x.insert(0,'Image_id')\n",
        "y=[]\n",
        "for i in x:\n",
        "    content=i.replace('/content/drive/My Drive/Data/Imagedb','')\n",
        "    content1=content.replace('.jpg\\n','')\n",
        "    y.append(content1)\n",
        "\n",
        "add_column_in_csv('/content/allFeatFC11.csv', '/content/allFeatFC1.csv', lambda row, line_num: row.insert(0, y[line_num - 1]))\n",
        "\n",
        "data=pd.read_csv('/content/allFeatFC1.csv')\n",
        "data.sort_values([\"Image_id\"],axis=0,ascending=True,inplace=True)\n",
        "data.to_csv('allFeatFC1Sorted.csv',index=False)"
      ],
      "execution_count": null,
      "outputs": []
    },
    {
      "cell_type": "code",
      "metadata": {
        "id": "_dv3Q0uT3xz2"
      },
      "source": [
        "import numpy as np\n",
        "import os\n",
        "import sys\n",
        "from tensorflow.keras.applications.vgg19 import VGG19\n",
        "from tensorflow.keras.preprocessing import image\n",
        "from tensorflow.keras.applications.vgg19 import preprocess_input\n",
        "from tensorflow.keras.models import Model\n",
        "base_model = VGG19(weights='imagenet',include_top=True)\n",
        "model = Model(inputs=base_model.input, outputs=base_model.get_layer('fc1').output)\n",
        "\n",
        "sys.stdout = open(\"/content/queryContent1.txt\", \"w\")\n",
        "\n",
        "f=open('queryFeat1.txt','a+')\n",
        "\n",
        "dirName='/content/drive/My Drive/Data/QI'\n",
        "\n",
        "def getListOfFiles(dirName):\n",
        "    listOfFile = os.listdir(dirName)\n",
        "    allFiles = list()\n",
        "    for entry in listOfFile:\n",
        "        fullPath = os.path.join(dirName, entry) \n",
        "        if os.path.isdir(fullPath):\n",
        "            allFiles = allFiles + getListOfFiles(fullPath)\n",
        "        else:\n",
        "            allFiles.append(fullPath)\n",
        "    return allFiles        \n",
        "\n",
        "def main():\n",
        "    listOfFiles = getListOfFiles(dirName)\n",
        "    \n",
        "    for elem in listOfFiles:\n",
        "        print(elem)\n",
        " \n",
        "    listOfFiles = list()\n",
        "    for (dirpath, dirnames, filenames) in os.walk(dirName):\n",
        "        listOfFiles += [os.path.join(dirpath, file) for file in filenames]\n",
        "    \n",
        "main()\n",
        "\n",
        "listOfFiles = getListOfFiles(dirName)\n",
        "for elem in listOfFiles:\n",
        "    img_path=elem\n",
        "    img = image.load_img(img_path, target_size=(224, 224))\n",
        "    x = image.img_to_array(img)\n",
        "    x  = np.expand_dims(x, axis=0)\n",
        "    x = preprocess_input(x)\n",
        "    block4_pool_features = model.predict(x)\n",
        "    np.savetxt(f,block4_pool_features)\n",
        "    f.write(\"\\n\")\n",
        "    "
      ],
      "execution_count": null,
      "outputs": []
    },
    {
      "cell_type": "code",
      "metadata": {
        "id": "SSAKdlo130aB"
      },
      "source": [
        "import pandas as pd\n",
        "df=pd.read_csv('/content/queryFeat1.txt', sep=\" \",header=None,names=['a{}'.format(i) for i in range(1, 4097)])\n",
        "df.to_csv('/content/queryFeatFC11.csv',index=False)"
      ],
      "execution_count": null,
      "outputs": []
    },
    {
      "cell_type": "code",
      "metadata": {
        "id": "GhEGEXYV32z6"
      },
      "source": [
        "from csv import writer\n",
        "from csv import reader\n",
        "\n",
        "def add_column_in_csv(input_file, output_file, transform_row):\n",
        "    with open(input_file, 'r') as read_obj, \\\n",
        "            open(output_file, 'w', newline='') as write_obj:\n",
        "        csv_reader = reader(read_obj)\n",
        "        csv_writer = writer(write_obj)\n",
        "        for row in csv_reader:\n",
        "            transform_row(row, csv_reader.line_num)\n",
        "            csv_writer.writerow(row)\n",
        "\n",
        "with open('/content/queryContent1.txt', 'r') as f:\n",
        "    x = f.readlines()\n",
        "x.insert(0,'Image_id')\n",
        "y=[]\n",
        "for i in x:\n",
        "    content=i.replace('/content/drive/My Drive/Data/QI','')\n",
        "    content1=content.replace('.jpg\\n','')\n",
        "    y.append(content1)\n",
        "\n",
        "add_column_in_csv('/content/queryFeatFC11.csv', '/content/queryFeatFC1.csv', lambda row, line_num: row.insert(0, y[line_num - 1]))\n",
        "\n",
        "data=pd.read_csv('/content/queryFeatFC1.csv')\n",
        "data.sort_values([\"Image_id\"],axis=0,ascending=True,inplace=True)\n",
        "data.to_csv('queryFeatFC1Sorted.csv',index=False)"
      ],
      "execution_count": null,
      "outputs": []
    },
    {
      "cell_type": "code",
      "metadata": {
        "id": "GL-gTL5035VP",
        "colab": {
          "base_uri": "https://localhost:8080/",
          "height": 34
        },
        "outputId": "33c09dc3-4ca8-4b53-8b91-9224e320eb61"
      },
      "source": [
        "\n",
        "import cv2\n",
        "import os\n",
        "import pandas as pd\n",
        "import scipy.spatial\n",
        "\n",
        "dq = pd.read_csv(\"/content/queryFeatFC1Sorted.csv\")\n",
        "da = pd.read_csv(\"/content/allFeatFC1Sorted.csv\")\n",
        "\n",
        "ary = scipy.spatial.distance.cdist(dq.iloc[:,1:], da.iloc[:,1:], metric='euclidean')\n",
        "abc=pd.DataFrame(ary)\n",
        "print()\n",
        "print(abc)\n",
        "\n",
        "out_list=abc.values.tolist()\n",
        "\n",
        "def find(target):\n",
        "    for i,lst in enumerate(out_list):\n",
        "        for j,value in enumerate(lst):\n",
        "            if value == target:\n",
        "                return (j+1)\n",
        "    return (None)\n",
        "\n",
        "n = int(input(\"Enter number:\"))\n",
        "print('Here are ',n,' nearest image instances using euclidean metric:')\n",
        "print()\n",
        "k=1\n",
        "\n",
        "pre_out_path = '/content/drive/My Drive/Data/Results/FC1-\\'Euclidean\\'/'\n",
        "post_path = '.jpg'\n",
        "\n",
        "for i in out_list:\n",
        "    print('For query image',k)\n",
        "    fin_out_path = pre_out_path + str(k)\n",
        "    if not os.path.exists(fin_out_path):\n",
        "      os.makedirs(fin_out_path)\n",
        "    query_path = '/content/drive/My Drive/Data/QI/'\n",
        "    fin_query_path = query_path + str(k) + post_path\n",
        "    out_query = cv2.imread(fin_query_path,1)\n",
        "    cv2.imwrite(os.path.join(fin_out_path , str(k)+post_path), out_query)\n",
        "    initial_path = fin_out_path + '/' + str(k) + post_path\n",
        "    end_path = fin_out_path + '/q-' + str(k) + post_path\n",
        "    os.rename(initial_path,end_path)\n",
        "    k+=1\n",
        "    for j in sorted(i)[:n]:\n",
        "        a=find(j)\n",
        "        print('i'+str(a),': ',j)\n",
        "        img_path = '/content/drive/My Drive/Data/Imagedb/'\n",
        "        fin_img_path = img_path + str(a) + post_path\n",
        "        out_img = cv2.imread(fin_img_path,1)\n",
        "        cv2.imwrite(os.path.join(fin_out_path , str(a)+post_path), out_img)\n",
        "    print()\n"
      ],
      "execution_count": null,
      "outputs": [
        {
          "output_type": "stream",
          "text": [
            "Enter number:15\n"
          ],
          "name": "stdout"
        }
      ]
    },
    {
      "cell_type": "code",
      "metadata": {
        "id": "hiAKAU8CO6BT",
        "colab": {
          "base_uri": "https://localhost:8080/",
          "height": 34
        },
        "outputId": "63e94883-e47e-4cfd-b7d7-b4204baaa984"
      },
      "source": [
        "import cv2\n",
        "import os\n",
        "import pandas as pd\n",
        "import scipy.spatial\n",
        "\n",
        "dq = pd.read_csv(\"/content/queryFeatFC1Sorted.csv\")\n",
        "da = pd.read_csv(\"/content/allFeatFC1Sorted.csv\")\n",
        "\n",
        "ary = scipy.spatial.distance.cdist(dq.iloc[:,1:], da.iloc[:,1:], metric='cityblock')\n",
        "abc=pd.DataFrame(ary)\n",
        "print()\n",
        "print(abc)\n",
        "\n",
        "out_list=abc.values.tolist()\n",
        "\n",
        "def find(target):\n",
        "    for i,lst in enumerate(out_list):\n",
        "        for j,value in enumerate(lst):\n",
        "            if value == target:\n",
        "                return (j+1)\n",
        "    return (None)\n",
        "\n",
        "n = int(input(\"Enter number:\"))\n",
        "print('Here are',n,'nearest image instances:')\n",
        "print()\n",
        "k=1\n",
        "print(\"Manhattan MEASURE\")\n",
        "pre_out_path = '/content/drive/My Drive/Data/Results/FC1-\\'Manhattan\\'/'\n",
        "post_path = '.jpg'\n",
        "\n",
        "for i in out_list:\n",
        "    print('For query image',k)\n",
        "    fin_out_path = pre_out_path + str(k)\n",
        "    if not os.path.exists(fin_out_path):\n",
        "      os.makedirs(fin_out_path)\n",
        "    query_path = '/content/drive/My Drive/Data/QI/'\n",
        "    fin_query_path = query_path + str(k) + post_path\n",
        "    out_query = cv2.imread(fin_query_path,1)\n",
        "    cv2.imwrite(os.path.join(fin_out_path , str(k)+post_path), out_query)\n",
        "    initial_path = fin_out_path + '/' + str(k) + post_path\n",
        "    end_path = fin_out_path + '/q-' + str(k) + post_path\n",
        "    os.rename(initial_path,end_path)\n",
        "    k+=1\n",
        "    for j in sorted(i)[:n]:\n",
        "        a=find(j)\n",
        "        print('i'+str(a),': ',j)\n",
        "        img_path = '/content/drive/My Drive/Data/Imagedb/'\n",
        "        fin_img_path = img_path + str(a) + post_path\n",
        "        out_img = cv2.imread(fin_img_path,1)\n",
        "        cv2.imwrite(os.path.join(fin_out_path , str(a)+post_path), out_img)\n",
        "    print()"
      ],
      "execution_count": null,
      "outputs": [
        {
          "output_type": "stream",
          "text": [
            "Enter number:15\n"
          ],
          "name": "stdout"
        }
      ]
    },
    {
      "cell_type": "code",
      "metadata": {
        "id": "YPvgxO7k37-D"
      },
      "source": [
        "import numpy as np\n",
        "import os\n",
        "import sys\n",
        "from tensorflow.keras.applications.vgg19 import VGG19\n",
        "from tensorflow.keras.preprocessing import image\n",
        "from tensorflow.keras.applications.vgg19 import preprocess_input\n",
        "from tensorflow.keras.models import Model\n",
        "base_model = VGG19(weights='imagenet',include_top=True)\n",
        "model = Model(inputs=base_model.input, outputs=base_model.get_layer('fc2').output)\n",
        "sys.stdout = open(\"/content/imagesContent2.txt\", \"w\")\n",
        "\n",
        "f=open('allFeatFC2.txt','a+')\n",
        "\n",
        "dirName='/content/drive/My Drive/Data/Imagedb/'\n",
        "\n",
        "def getListOfFiles(dirName):\n",
        "    listOfFile = os.listdir(dirName)\n",
        "    allFiles = list()\n",
        "    for entry in listOfFile:\n",
        "        fullPath = os.path.join(dirName, entry)\n",
        "        if os.path.isdir(fullPath):\n",
        "            allFiles = allFiles + getListOfFiles(fullPath)\n",
        "        else:\n",
        "            allFiles.append(fullPath)                \n",
        "    return allFiles        \n",
        "\n",
        "def main():\n",
        "    listOfFiles = getListOfFiles(dirName)\n",
        "    for elem in listOfFiles:\n",
        "        print(elem)\n",
        "    listOfFiles = list()\n",
        "    for (dirpath, dirnames, filenames) in os.walk(dirName):\n",
        "        listOfFiles += [os.path.join(dirpath, file) for file in filenames]\n",
        "\n",
        "if __name__ == '__main__':\n",
        "    main()\n",
        "listOfFiles = getListOfFiles(dirName)\n",
        "for elem in listOfFiles:\n",
        "    img_path=elem\n",
        "    img = image.load_img(img_path, target_size=(224, 224))\n",
        "    x = image.img_to_array(img)\n",
        "    x  = np.expand_dims(x, axis=0)\n",
        "    x = preprocess_input(x)\n",
        "    block4_pool_features = model.predict(x)\n",
        "    np.savetxt(f,block4_pool_features)\n",
        "    f.write(\"\\n\")\n",
        "    "
      ],
      "execution_count": null,
      "outputs": []
    },
    {
      "cell_type": "code",
      "metadata": {
        "id": "sCVWFFHU3-TP"
      },
      "source": [
        "import pandas as pd\n",
        "df=pd.read_csv('/content/allFeatFC2.txt', sep=\" \",header=None,names=['a{}'.format(i) for i in range(1, 4097)])\n",
        "df.to_csv('/content/allFeatFC22.csv',index=False)"
      ],
      "execution_count": null,
      "outputs": []
    },
    {
      "cell_type": "code",
      "metadata": {
        "id": "D2hRFWgr4B1e"
      },
      "source": [
        "from csv import writer\n",
        "from csv import reader\n",
        "\n",
        "def add_column_in_csv(input_file, output_file, transform_row):\n",
        "    with open(input_file, 'r') as read_obj, \\\n",
        "            open(output_file, 'w', newline='') as write_obj:\n",
        "        csv_reader = reader(read_obj)\n",
        "        csv_writer = writer(write_obj)\n",
        "        for row in csv_reader:\n",
        "            transform_row(row, csv_reader.line_num)\n",
        "            csv_writer.writerow(row)\n",
        "\n",
        "with open('/content/imagesContent2.txt', 'r') as f:\n",
        "    x = f.readlines()\n",
        "x.insert(0,'Image_id')\n",
        "y=[]\n",
        "for i in x:\n",
        "    content=i.replace('/content/drive/My Drive/Data/Imagedb/','')\n",
        "    content1=content.replace('.jpg\\n','')\n",
        "    y.append(content1)\n",
        "\n",
        "add_column_in_csv('/content/allFeatFC22.csv', '/content/allFeatFC2.csv', lambda row, line_num: row.insert(0, y[line_num - 1]))\n",
        "\n",
        "data=pd.read_csv('/content/allFeatFC2.csv')\n",
        "data.sort_values([\"Image_id\"],axis=0,ascending=True,inplace=True)\n",
        "data.to_csv('allFeatFC2Sorted.csv',index=False)"
      ],
      "execution_count": null,
      "outputs": []
    },
    {
      "cell_type": "code",
      "metadata": {
        "id": "LOaJnuyx4D-V"
      },
      "source": [
        "import numpy as np\n",
        "import os\n",
        "import sys\n",
        "from tensorflow.keras.applications.vgg19 import VGG19\n",
        "from tensorflow.keras.preprocessing import image\n",
        "from tensorflow.keras.applications.vgg19 import preprocess_input\n",
        "from tensorflow.keras.models import Model\n",
        "base_model = VGG19(weights='imagenet',include_top=True)\n",
        "model = Model(inputs=base_model.input, outputs=base_model.get_layer('fc2').output)\n",
        "\n",
        "sys.stdout = open(\"/content/queryContent2.txt\", \"w\")\n",
        "\n",
        "f=open('queryFeat2.txt','a+')\n",
        "\n",
        "dirName='/content/drive/My Drive/Data/QI/'\n",
        "\n",
        "def getListOfFiles(dirName):\n",
        "    listOfFile = os.listdir(dirName)\n",
        "    allFiles = list()\n",
        "    for entry in listOfFile:\n",
        "        fullPath = os.path.join(dirName, entry) \n",
        "        if os.path.isdir(fullPath):\n",
        "            allFiles = allFiles + getListOfFiles(fullPath)\n",
        "        else:\n",
        "            allFiles.append(fullPath)\n",
        "    return allFiles        \n",
        "\n",
        "def main():\n",
        "    listOfFiles = getListOfFiles(dirName)\n",
        "    \n",
        "    for elem in listOfFiles:\n",
        "        print(elem)\n",
        " \n",
        "    listOfFiles = list()\n",
        "    for (dirpath, dirnames, filenames) in os.walk(dirName):\n",
        "        listOfFiles += [os.path.join(dirpath, file) for file in filenames]\n",
        "                     \n",
        "if __name__ == '__main__':\n",
        "    main()\n",
        "\n",
        "listOfFiles = getListOfFiles(dirName)\n",
        "for elem in listOfFiles:\n",
        "    img_path=elem\n",
        "    img = image.load_img(img_path, target_size=(224, 224))\n",
        "    x = image.img_to_array(img)\n",
        "    x  = np.expand_dims(x, axis=0)\n",
        "    x = preprocess_input(x)\n",
        "    block4_pool_features = model.predict(x)\n",
        "    np.savetxt(f,block4_pool_features)\n",
        "    f.write(\"\\n\")\n",
        "    "
      ],
      "execution_count": null,
      "outputs": []
    },
    {
      "cell_type": "code",
      "metadata": {
        "id": "09qqZ-wP4GFo"
      },
      "source": [
        "import pandas as pd\n",
        "df=pd.read_csv('/content/queryFeat2.txt', sep=\" \",header=None,names=['a{}'.format(i) for i in range(1, 4097)])\n",
        "df.to_csv('/content/queryFeatFC22.csv',index=False)"
      ],
      "execution_count": null,
      "outputs": []
    },
    {
      "cell_type": "code",
      "metadata": {
        "id": "0_5lanms4INq"
      },
      "source": [
        "from csv import writer\n",
        "from csv import reader\n",
        "\n",
        "def add_column_in_csv(input_file, output_file, transform_row):\n",
        "    with open(input_file, 'r') as read_obj, \\\n",
        "            open(output_file, 'w', newline='') as write_obj:\n",
        "        csv_reader = reader(read_obj)\n",
        "        csv_writer = writer(write_obj)\n",
        "        for row in csv_reader:\n",
        "            transform_row(row, csv_reader.line_num)\n",
        "            csv_writer.writerow(row)\n",
        "\n",
        "with open('/content/queryContent2.txt', 'r') as f:\n",
        "    x = f.readlines()\n",
        "x.insert(0,'Image_id')\n",
        "y=[]\n",
        "for i in x:\n",
        "    content=i.replace('/content/drive/My Drive/Data/QI/','')\n",
        "    content1=content.replace('.jpg\\n','')\n",
        "    y.append(content1)\n",
        "\n",
        "add_column_in_csv('/content/queryFeatFC22.csv', '/content/queryFeatFC2.csv', lambda row, line_num: row.insert(0, y[line_num - 1]))\n",
        "\n",
        "data=pd.read_csv('/content/queryFeatFC2.csv')\n",
        "data.sort_values([\"Image_id\"],axis=0,ascending=True,inplace=True)\n",
        "data.to_csv('queryFeatFC2Sorted.csv',index=False)"
      ],
      "execution_count": null,
      "outputs": []
    },
    {
      "cell_type": "code",
      "metadata": {
        "id": "y-U2fObv4LbS",
        "colab": {
          "base_uri": "https://localhost:8080/",
          "height": 34
        },
        "outputId": "14b58502-e017-4b56-bcac-bdfbc42af19d"
      },
      "source": [
        "import cv2\n",
        "import os\n",
        "import pandas as pd\n",
        "import scipy.spatial\n",
        "\n",
        "dq = pd.read_csv(\"/content/queryFeatFC2Sorted.csv\")\n",
        "da = pd.read_csv(\"/content/allFeatFC2Sorted.csv\")\n",
        "\n",
        "ary = scipy.spatial.distance.cdist(dq.iloc[:,1:], da.iloc[:,1:], metric='euclidean')\n",
        "abc=pd.DataFrame(ary)\n",
        "print()\n",
        "print(abc)\n",
        "\n",
        "out_list=abc.values.tolist()\n",
        "\n",
        "def find(target):\n",
        "    for i,lst in enumerate(out_list):\n",
        "        for j,value in enumerate(lst):\n",
        "            if value == target:\n",
        "                return (j+1)\n",
        "    return (None)\n",
        "\n",
        "n = int(input(\"Enter number:\"))\n",
        "print('Here are',n,'nearest image instances:')\n",
        "print()\n",
        "k=1\n",
        "print(\"EUCLIDEAN SIMILARITY MEASURE\")\n",
        "pre_out_path = '/content/drive/My Drive/Data/Results/FC2-\\'Euclidean\\'/'\n",
        "post_path = '.jpg'\n",
        "\n",
        "for i in out_list:\n",
        "    print('For query image',k)\n",
        "    fin_out_path = pre_out_path + str(k)\n",
        "    if not os.path.exists(fin_out_path):\n",
        "      os.makedirs(fin_out_path)\n",
        "    query_path = '/content/drive/My Drive/Data/QI/'\n",
        "    fin_query_path = query_path + str(k) + post_path\n",
        "    out_query = cv2.imread(fin_query_path,1)\n",
        "    cv2.imwrite(os.path.join(fin_out_path , str(k)+post_path), out_query)\n",
        "    initial_path = fin_out_path + '/' + str(k) + post_path\n",
        "    end_path = fin_out_path + '/q-' + str(k) + post_path\n",
        "    os.rename(initial_path,end_path)\n",
        "    k+=1\n",
        "    for j in sorted(i)[:n]:\n",
        "        a=find(j)\n",
        "        print('i'+str(a),': ',j)\n",
        "        img_path = '/content/drive/My Drive/Data/Imagedb/'\n",
        "        fin_img_path = img_path + str(a) + post_path\n",
        "        out_img = cv2.imread(fin_img_path,1)\n",
        "        cv2.imwrite(os.path.join(fin_out_path , str(a)+post_path), out_img)\n",
        "    print()"
      ],
      "execution_count": null,
      "outputs": [
        {
          "output_type": "stream",
          "text": [
            "Enter number:15\n"
          ],
          "name": "stdout"
        }
      ]
    },
    {
      "cell_type": "code",
      "metadata": {
        "id": "sS48KhbgPtiN",
        "colab": {
          "base_uri": "https://localhost:8080/",
          "height": 34
        },
        "outputId": "da222448-ffae-473a-bcfc-235d83ba3c97"
      },
      "source": [
        "import cv2\n",
        "import os\n",
        "import pandas as pd\n",
        "import scipy.spatial \n",
        "\n",
        "dq = pd.read_csv(\"/content/queryFeatFC2Sorted.csv\")\n",
        "da = pd.read_csv(\"/content/allFeatFC2Sorted.csv\")\n",
        "\n",
        "ary = scipy.spatial.distance.cdist(dq.iloc[:,1:], da.iloc[:,1:], metric='cityblock')\n",
        "abc=pd.DataFrame(ary)\n",
        "print()\n",
        "print(abc)\n",
        "\n",
        "out_list=abc.values.tolist()\n",
        "\n",
        "def find(target):\n",
        "    for i,lst in enumerate(out_list):\n",
        "        for j,value in enumerate(lst):\n",
        "            if value == target:\n",
        "                return (j+1)\n",
        "    return (None)\n",
        "\n",
        "n = int(input(\"Enter number:\"))\n",
        "print('Here are',n,'nearest image instances:')\n",
        "print()\n",
        "k=1\n",
        "print(\"Manhattan MEASURE\")\n",
        "pre_out_path = '/content/drive/My Drive/Data/Results/FC2-\\'Manhattan\\'/'\n",
        "post_path = '.jpg'\n",
        "\n",
        "for i in out_list:\n",
        "    print('For query image',k)\n",
        "    fin_out_path = pre_out_path + str(k)\n",
        "    if not os.path.exists(fin_out_path):\n",
        "      os.makedirs(fin_out_path)\n",
        "    query_path = '/content/drive/My Drive/Data/QI/'\n",
        "    fin_query_path = query_path + str(k) + post_path\n",
        "    out_query = cv2.imread(fin_query_path,1)\n",
        "    cv2.imwrite(os.path.join(fin_out_path , str(k)+post_path), out_query)\n",
        "    initial_path = fin_out_path + '/' + str(k) + post_path\n",
        "    end_path = fin_out_path + '/q-' + str(k) + post_path\n",
        "    os.rename(initial_path,end_path)\n",
        "    k+=1\n",
        "    for j in sorted(i)[:n]:\n",
        "        a=find(j)\n",
        "        print('i'+str(a),': ',j)\n",
        "        img_path = '/content/drive/My Drive/Data/Imagedb/'\n",
        "        fin_img_path = img_path + str(a) + post_path\n",
        "        out_img = cv2.imread(fin_img_path,1)\n",
        "        cv2.imwrite(os.path.join(fin_out_path , str(a)+post_path), out_img)\n",
        "    print()"
      ],
      "execution_count": null,
      "outputs": [
        {
          "output_type": "stream",
          "text": [
            "Enter number:15\n"
          ],
          "name": "stdout"
        }
      ]
    }
  ]
}